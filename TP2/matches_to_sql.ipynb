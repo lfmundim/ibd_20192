{
 "cells": [
  {
   "cell_type": "code",
   "execution_count": 1,
   "metadata": {},
   "outputs": [],
   "source": [
    "import io\n",
    "import json\n",
    "import sqlite3 as sql\n",
    "import pandas as pd\n",
    "import os\n",
    "\n",
    "def query(query_string, connection):\n",
    "    return pd.read_sql_query(query_string, connection)"
   ]
  },
  {
   "cell_type": "code",
   "execution_count": 2,
   "metadata": {},
   "outputs": [],
   "source": [
    "file = open('owl.sql', 'w+')"
   ]
  },
  {
   "cell_type": "code",
   "execution_count": 3,
   "metadata": {},
   "outputs": [],
   "source": [
    "json_file = open('matches.json')\n",
    "data = json.load(json_file)['content']\n",
    "json_file.close()"
   ]
  },
  {
   "cell_type": "code",
   "execution_count": 4,
   "metadata": {},
   "outputs": [],
   "source": [
    "match_schema = (\n",
    "    'CREATE TABLE [MATCHES] ( '\n",
    "    'MATCH_ID INT, '\n",
    "    'TEAM_ONE_ID INT, '\n",
    "    'TEAM_TWO_ID INT, '\n",
    "    'TEAM_ONE_SCORE INT, '\n",
    "    'TEAM_TWO_SCORE INT, '\n",
    "    'WINNER_ID INT, '\n",
    "    'TIMESTAMP DATETIME, '\n",
    "    'PRIMARY KEY (MATCH_ID)'\n",
    "    ');' \n",
    ")"
   ]
  },
  {
   "cell_type": "code",
   "execution_count": 5,
   "metadata": {},
   "outputs": [
    {
     "data": {
      "text/plain": [
       "174"
      ]
     },
     "execution_count": 5,
     "metadata": {},
     "output_type": "execute_result"
    }
   ],
   "source": [
    "file.write(match_schema + '\\n\\n')"
   ]
  },
  {
   "cell_type": "code",
   "execution_count": 6,
   "metadata": {},
   "outputs": [],
   "source": [
    "for match in data:\n",
    "    insert = (\n",
    "        'INSERT INTO MATCHES '\n",
    "        '(MATCH_ID, TEAM_ONE_ID, TEAM_TWO_ID, '\n",
    "        'TEAM_ONE_SCORE, TEAM_TWO_SCORE, '\n",
    "        'WINNER_ID, TIMESTAMP)'\n",
    "        'VALUES (%d, %d, %d, %d, %d, %d, %d);'\n",
    "        % (match['id'], match['competitors'][0]['id'],\n",
    "          match['competitors'][1]['id'],\n",
    "          match['scores'][0]['value'],\n",
    "          match['scores'][1]['value'],\n",
    "          match['winner']['id'],\n",
    "          match['actualStartDate'])\n",
    "    )\n",
    "    file.write(insert+'\\n')"
   ]
  },
  {
   "cell_type": "code",
   "execution_count": 7,
   "metadata": {},
   "outputs": [],
   "source": [
    "#connection = sql.connect('test.db')"
   ]
  },
  {
   "cell_type": "code",
   "execution_count": 8,
   "metadata": {},
   "outputs": [],
   "source": [
    "#cursor = connection.cursor()\n",
    "#db = io.open('owl.sql', 'r', encoding='ISO-8859-1')\n",
    "#database = db.read()\n",
    "#cursor.executescript(database)"
   ]
  },
  {
   "cell_type": "code",
   "execution_count": 9,
   "metadata": {},
   "outputs": [
    {
     "data": {
      "text/plain": [
       "85"
      ]
     },
     "execution_count": 9,
     "metadata": {},
     "output_type": "execute_result"
    }
   ],
   "source": [
    "game_schema = (\n",
    "    '\\nCREATE TABLE [GAMES] ('\n",
    "    'GAME_ID INT, '\n",
    "    'MATCH_ID INT, '\n",
    "    'MAP TEXT, '\n",
    "    'PRIMARY KEY (GAME_ID)'\n",
    "    ');\\n\\n'\n",
    ")\n",
    "\n",
    "file.write(game_schema)"
   ]
  },
  {
   "cell_type": "code",
   "execution_count": 10,
   "metadata": {},
   "outputs": [
    {
     "name": "stdout",
     "output_type": "stream",
     "text": [
      "Error\n",
      "Error\n"
     ]
    }
   ],
   "source": [
    "for match in data:\n",
    "    for game in match['games']:\n",
    "        try:\n",
    "            map_name = str(game['attributes']['map']).replace('-', ' ')\n",
    "            insert = (\n",
    "                'INSERT INTO GAMES (GAME_ID, MATCH_ID, MAP) VALUES '\n",
    "                '(%d, %d, \\'%s\\');'\n",
    "                % (game['id'], match['id'], map_name)\n",
    "            )\n",
    "            file.write(insert+'\\n')\n",
    "        except:\n",
    "            print('Error')"
   ]
  },
  {
   "cell_type": "code",
   "execution_count": 11,
   "metadata": {},
   "outputs": [],
   "source": [
    "#try:\n",
    "#    connection = sql.connect('test.db')\n",
    "#    cursor = connection.cursor()\n",
    "#    db = io.open('owl.sql', 'r', encoding='ISO-8859-1')\n",
    "#    database = db.read()\n",
    "#    cursor.executescript(database)\n",
    "#except Exception as e:\n",
    "#    print(e)\n",
    "#    os.remove('test.db')"
   ]
  },
  {
   "cell_type": "code",
   "execution_count": 12,
   "metadata": {},
   "outputs": [
    {
     "data": {
      "text/plain": [
       "97"
      ]
     },
     "execution_count": 12,
     "metadata": {},
     "output_type": "execute_result"
    }
   ],
   "source": [
    "teams_schema = (\n",
    "    '\\nCREATE TABLE [TEAMS] ('\n",
    "    'TEAM_ID INT, '\n",
    "    'TEAM_NAME TEXT, '\n",
    "    'TEAM_LOCATION TEXT, '\n",
    "    'PRIMARY KEY (TEAM_ID)'\n",
    "    ');\\n\\n'\n",
    ")\n",
    "\n",
    "file.write(teams_schema)"
   ]
  },
  {
   "cell_type": "code",
   "execution_count": 13,
   "metadata": {},
   "outputs": [],
   "source": [
    "team_list = []\n",
    "for match in data:\n",
    "    for competitor in match['competitors']:\n",
    "        if competitor['id'] not in team_list:\n",
    "            team_list.append(competitor['id'])\n",
    "            insert = (\n",
    "                    'INSERT INTO TEAMS (TEAM_ID, TEAM_NAME, TEAM_LOCATION) VALUES '\n",
    "                    '(%d, \\'%s\\', \\'%s\\');'\n",
    "                    % (competitor['id'], \n",
    "                       competitor['name'], \n",
    "                       competitor['homeLocation'])\n",
    "                )\n",
    "            file.write(insert+'\\n')"
   ]
  },
  {
   "cell_type": "code",
   "execution_count": 14,
   "metadata": {},
   "outputs": [],
   "source": [
    "#try:\n",
    "#    connection = sql.connect('test.db')\n",
    "#    cursor = connection.cursor()\n",
    "#    db = io.open('owl.sql', 'r', encoding='ISO-8859-1')\n",
    "#    database = db.read()\n",
    "#    cursor.executescript(database)\n",
    "#except Exception as e:\n",
    "#    print(e)\n",
    "#    os.remove('test.db')"
   ]
  },
  {
   "cell_type": "code",
   "execution_count": 15,
   "metadata": {},
   "outputs": [
    {
     "data": {
      "text/plain": [
       "132"
      ]
     },
     "execution_count": 15,
     "metadata": {},
     "output_type": "execute_result"
    }
   ],
   "source": [
    "teams_schema = (\n",
    "    '\\nCREATE TABLE [PLAYERS] ('\n",
    "    'COMPETITOR_ID INT,'\n",
    "    'TEAM_ID INT, '\n",
    "    'HANDLE TEXT, '\n",
    "    'ROLE TEXT, '\n",
    "    'NUMBER INT,'\n",
    "    'NAME TEXT,'\n",
    "    'PRIMARY KEY (COMPETITOR_ID)'\n",
    "    ');\\n\\n'\n",
    ")\n",
    "\n",
    "file.write(teams_schema)"
   ]
  },
  {
   "cell_type": "code",
   "execution_count": 17,
   "metadata": {},
   "outputs": [],
   "source": [
    "team_list = []\n",
    "player_list = []\n",
    "for match in data:\n",
    "    for competitor in match['competitors']:\n",
    "        if competitor['id'] not in team_list:\n",
    "            team_list.append(competitor['id'])\n",
    "            for player in competitor['players']:\n",
    "                if player['player']['id'] not in player_list:\n",
    "                    player_list.append(player['player']['id'])\n",
    "                    insert = (\n",
    "                            'INSERT INTO PLAYERS (COMPETITOR_ID, TEAM_ID, HANDLE, ROLE, NUMBER, NAME) VALUES '\n",
    "                            '(%d, %d, \\'%s\\', \\'%s\\', %d, \\'%s\\');'\n",
    "                            % (player['player']['id'], \n",
    "                               player['team']['id'], \n",
    "                               player['player']['name'],\n",
    "                               player['player']['attributes']['role'],\n",
    "                               player['player']['attributes']['player_number'],\n",
    "                               ' '.join([player['player']['givenName'], player['player']['familyName']]))\n",
    "                        )\n",
    "                    file.write(insert+'\\n')"
   ]
  },
  {
   "cell_type": "code",
   "execution_count": 18,
   "metadata": {},
   "outputs": [],
   "source": [
    "file.close()"
   ]
  },
  {
   "cell_type": "code",
   "execution_count": 19,
   "metadata": {},
   "outputs": [],
   "source": [
    "try:\n",
    "    connection = sql.connect('test.db')\n",
    "    cursor = connection.cursor()\n",
    "    db = io.open('owl.sql', 'r', encoding='ISO-8859-1')\n",
    "    database = db.read()\n",
    "    cursor.executescript(database)\n",
    "except Exception as e:\n",
    "    print(e)\n",
    "    os.remove('test.db')"
   ]
  },
  {
   "cell_type": "code",
   "execution_count": 24,
   "metadata": {},
   "outputs": [
    {
     "data": {
      "text/html": [
       "<div>\n",
       "<style scoped>\n",
       "    .dataframe tbody tr th:only-of-type {\n",
       "        vertical-align: middle;\n",
       "    }\n",
       "\n",
       "    .dataframe tbody tr th {\n",
       "        vertical-align: top;\n",
       "    }\n",
       "\n",
       "    .dataframe thead th {\n",
       "        text-align: right;\n",
       "    }\n",
       "</style>\n",
       "<table border=\"1\" class=\"dataframe\">\n",
       "  <thead>\n",
       "    <tr style=\"text-align: right;\">\n",
       "      <th></th>\n",
       "      <th>HANDLE</th>\n",
       "      <th>TEAM_NAME</th>\n",
       "      <th>NUMBER</th>\n",
       "      <th>ROLE</th>\n",
       "    </tr>\n",
       "  </thead>\n",
       "  <tbody>\n",
       "    <tr>\n",
       "      <td>0</td>\n",
       "      <td>aKm</td>\n",
       "      <td>Dallas Fuel</td>\n",
       "      <td>10</td>\n",
       "      <td>offense</td>\n",
       "    </tr>\n",
       "    <tr>\n",
       "      <td>1</td>\n",
       "      <td>Taimou</td>\n",
       "      <td>Dallas Fuel</td>\n",
       "      <td>13</td>\n",
       "      <td>offense</td>\n",
       "    </tr>\n",
       "    <tr>\n",
       "      <td>2</td>\n",
       "      <td>ZachaREEE</td>\n",
       "      <td>Dallas Fuel</td>\n",
       "      <td>22</td>\n",
       "      <td>offense</td>\n",
       "    </tr>\n",
       "    <tr>\n",
       "      <td>3</td>\n",
       "      <td>HarryHook</td>\n",
       "      <td>Dallas Fuel</td>\n",
       "      <td>9</td>\n",
       "      <td>support</td>\n",
       "    </tr>\n",
       "    <tr>\n",
       "      <td>4</td>\n",
       "      <td>uNKOE</td>\n",
       "      <td>Dallas Fuel</td>\n",
       "      <td>24</td>\n",
       "      <td>support</td>\n",
       "    </tr>\n",
       "    <tr>\n",
       "      <td>5</td>\n",
       "      <td>Closer</td>\n",
       "      <td>Dallas Fuel</td>\n",
       "      <td>17</td>\n",
       "      <td>support</td>\n",
       "    </tr>\n",
       "    <tr>\n",
       "      <td>6</td>\n",
       "      <td>OGE</td>\n",
       "      <td>Dallas Fuel</td>\n",
       "      <td>2</td>\n",
       "      <td>tank</td>\n",
       "    </tr>\n",
       "    <tr>\n",
       "      <td>7</td>\n",
       "      <td>Mickie</td>\n",
       "      <td>Dallas Fuel</td>\n",
       "      <td>7</td>\n",
       "      <td>tank</td>\n",
       "    </tr>\n",
       "    <tr>\n",
       "      <td>8</td>\n",
       "      <td>NotE</td>\n",
       "      <td>Dallas Fuel</td>\n",
       "      <td>3</td>\n",
       "      <td>tank</td>\n",
       "    </tr>\n",
       "    <tr>\n",
       "      <td>9</td>\n",
       "      <td>Trill</td>\n",
       "      <td>Dallas Fuel</td>\n",
       "      <td>30</td>\n",
       "      <td>tank</td>\n",
       "    </tr>\n",
       "  </tbody>\n",
       "</table>\n",
       "</div>"
      ],
      "text/plain": [
       "      HANDLE    TEAM_NAME  NUMBER     ROLE\n",
       "0        aKm  Dallas Fuel      10  offense\n",
       "1     Taimou  Dallas Fuel      13  offense\n",
       "2  ZachaREEE  Dallas Fuel      22  offense\n",
       "3  HarryHook  Dallas Fuel       9  support\n",
       "4      uNKOE  Dallas Fuel      24  support\n",
       "5     Closer  Dallas Fuel      17  support\n",
       "6        OGE  Dallas Fuel       2     tank\n",
       "7     Mickie  Dallas Fuel       7     tank\n",
       "8       NotE  Dallas Fuel       3     tank\n",
       "9      Trill  Dallas Fuel      30     tank"
      ]
     },
     "execution_count": 24,
     "metadata": {},
     "output_type": "execute_result"
    }
   ],
   "source": [
    "query('select handle, team_name, number, role from players natural join teams where team_name=\\'Dallas Fuel\\' order by role', connection)"
   ]
  },
  {
   "cell_type": "code",
   "execution_count": 25,
   "metadata": {},
   "outputs": [
    {
     "ename": "OperationalError",
     "evalue": "unable to open database file",
     "output_type": "error",
     "traceback": [
      "\u001b[0;31m---------------------------------------------------------------------------\u001b[0m",
      "\u001b[0;31mOperationalError\u001b[0m                          Traceback (most recent call last)",
      "\u001b[0;32m<ipython-input-25-06fb54134c71>\u001b[0m in \u001b[0;36m<module>\u001b[0;34m\u001b[0m\n\u001b[0;32m----> 1\u001b[0;31m \u001b[0mconnection2\u001b[0m \u001b[0;34m=\u001b[0m \u001b[0msql\u001b[0m\u001b[0;34m.\u001b[0m\u001b[0mconnect\u001b[0m\u001b[0;34m(\u001b[0m\u001b[0;34m'https://drive.google.com/file/d/1XHYcdYOf5n1HIG7ESUOkbdUMluFI3G4k/view'\u001b[0m\u001b[0;34m)\u001b[0m\u001b[0;34m\u001b[0m\u001b[0;34m\u001b[0m\u001b[0m\n\u001b[0m",
      "\u001b[0;31mOperationalError\u001b[0m: unable to open database file"
     ]
    }
   ],
   "source": [
    "connection2 = sql.connect('https://drive.google.com/file/d/1XHYcdYOf5n1HIG7ESUOkbdUMluFI3G4k/view')"
   ]
  },
  {
   "cell_type": "code",
   "execution_count": null,
   "metadata": {},
   "outputs": [],
   "source": []
  }
 ],
 "metadata": {
  "kernelspec": {
   "display_name": "Python 3",
   "language": "python",
   "name": "python3"
  },
  "language_info": {
   "codemirror_mode": {
    "name": "ipython",
    "version": 3
   },
   "file_extension": ".py",
   "mimetype": "text/x-python",
   "name": "python",
   "nbconvert_exporter": "python",
   "pygments_lexer": "ipython3",
   "version": "3.7.3"
  }
 },
 "nbformat": 4,
 "nbformat_minor": 2
}

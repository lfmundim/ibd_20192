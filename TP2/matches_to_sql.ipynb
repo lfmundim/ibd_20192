{
 "cells": [
  {
   "cell_type": "code",
   "execution_count": 181,
   "metadata": {},
   "outputs": [],
   "source": [
    "import io\n",
    "import json\n",
    "import sqlite3 as sql\n",
    "import pandas as pd\n",
    "import os\n",
    "\n",
    "def query(query_string, connection):\n",
    "    return pd.read_sql_query(query_string, connection)"
   ]
  },
  {
   "cell_type": "code",
   "execution_count": 170,
   "metadata": {},
   "outputs": [],
   "source": [
    "file = open('owl.sql', 'w+')"
   ]
  },
  {
   "cell_type": "code",
   "execution_count": 171,
   "metadata": {},
   "outputs": [],
   "source": [
    "json_file = open('matches.json')\n",
    "data = json.load(json_file)['content']\n",
    "json_file.close()"
   ]
  },
  {
   "cell_type": "code",
   "execution_count": 172,
   "metadata": {},
   "outputs": [],
   "source": [
    "match_schema = (\n",
    "    'CREATE TABLE [MATCHES] ( '\n",
    "    'MATCH_ID INT, '\n",
    "    'TEAM_ONE_ID INT, '\n",
    "    'TEAM_TWO_ID INT, '\n",
    "    'TEAM_ONE_SCORE INT, '\n",
    "    'TEAM_TWO_SCORE INT, '\n",
    "    'WINNER_ID INT, '\n",
    "    'TIMESTAMP DATETIME, '\n",
    "    'PRIMARY KEY (MATCH_ID)'\n",
    "    ');' \n",
    ")"
   ]
  },
  {
   "cell_type": "code",
   "execution_count": 173,
   "metadata": {},
   "outputs": [
    {
     "data": {
      "text/plain": [
       "174"
      ]
     },
     "execution_count": 173,
     "metadata": {},
     "output_type": "execute_result"
    }
   ],
   "source": [
    "file.write(match_schema + '\\n\\n')"
   ]
  },
  {
   "cell_type": "code",
   "execution_count": 174,
   "metadata": {},
   "outputs": [],
   "source": [
    "for match in data:\n",
    "    insert = (\n",
    "        'INSERT INTO MATCHES '\n",
    "        '(MATCH_ID, TEAM_ONE_ID, TEAM_TWO_ID, '\n",
    "        'TEAM_ONE_SCORE, TEAM_TWO_SCORE, '\n",
    "        'WINNER_ID, TIMESTAMP)'\n",
    "        'VALUES (%d, %d, %d, %d, %d, %d, %d);'\n",
    "        % (match['id'], match['competitors'][0]['id'],\n",
    "          match['competitors'][1]['id'],\n",
    "          match['scores'][0]['value'],\n",
    "          match['scores'][1]['value'],\n",
    "          match['winner']['id'],\n",
    "          match['actualStartDate'])\n",
    "    )\n",
    "    file.write(insert+'\\n')"
   ]
  },
  {
   "cell_type": "code",
   "execution_count": 175,
   "metadata": {},
   "outputs": [],
   "source": [
    "#connection = sql.connect('test.db')"
   ]
  },
  {
   "cell_type": "code",
   "execution_count": 176,
   "metadata": {},
   "outputs": [],
   "source": [
    "#cursor = connection.cursor()\n",
    "#db = io.open('owl.sql', 'r', encoding='ISO-8859-1')\n",
    "#database = db.read()\n",
    "#cursor.executescript(database)"
   ]
  },
  {
   "cell_type": "code",
   "execution_count": 177,
   "metadata": {},
   "outputs": [
    {
     "data": {
      "text/plain": [
       "85"
      ]
     },
     "execution_count": 177,
     "metadata": {},
     "output_type": "execute_result"
    }
   ],
   "source": [
    "game_schema = (\n",
    "    '\\nCREATE TABLE [GAMES] ('\n",
    "    'GAME_ID INT, '\n",
    "    'MATCH_ID INT, '\n",
    "    'MAP TEXT, '\n",
    "    'PRIMARY KEY (GAME_ID)'\n",
    "    ');\\n\\n'\n",
    ")\n",
    "\n",
    "file.write(game_schema)"
   ]
  },
  {
   "cell_type": "code",
   "execution_count": 178,
   "metadata": {},
   "outputs": [
    {
     "name": "stdout",
     "output_type": "stream",
     "text": [
      "Error\n",
      "Error\n"
     ]
    }
   ],
   "source": [
    "for match in data:\n",
    "    for game in match['games']:\n",
    "        try:\n",
    "            map_name = str(game['attributes']['map']).replace('-', ' ')\n",
    "            insert = (\n",
    "                'INSERT INTO GAMES (GAME_ID, MATCH_ID, MAP) VALUES '\n",
    "                '(%d, %d, \\'%s\\');'\n",
    "                % (game['id'], match['id'], map_name)\n",
    "            )\n",
    "            file.write(insert+'\\n')\n",
    "        except:\n",
    "            print('Error')"
   ]
  },
  {
   "cell_type": "code",
   "execution_count": 185,
   "metadata": {},
   "outputs": [],
   "source": [
    "#try:\n",
    "#    connection = sql.connect('test.db')\n",
    "#    cursor = connection.cursor()\n",
    "#    db = io.open('owl.sql', 'r', encoding='ISO-8859-1')\n",
    "#    database = db.read()\n",
    "#    cursor.executescript(database)\n",
    "#except Exception as e:\n",
    "#    print(e)\n",
    "#    os.remove('test.db')"
   ]
  },
  {
   "cell_type": "code",
   "execution_count": 186,
   "metadata": {},
   "outputs": [
    {
     "data": {
      "text/plain": [
       "97"
      ]
     },
     "execution_count": 186,
     "metadata": {},
     "output_type": "execute_result"
    }
   ],
   "source": [
    "teams_schema = (\n",
    "    '\\nCREATE TABLE [TEAMS] ('\n",
    "    'TEAM_ID INT, '\n",
    "    'TEAM_NAME TEXT, '\n",
    "    'TEAM_LOCATION TEXT, '\n",
    "    'PRIMARY KEY (TEAM_ID)'\n",
    "    ');\\n\\n'\n",
    ")\n",
    "\n",
    "file.write(teams_schema)"
   ]
  },
  {
   "cell_type": "code",
   "execution_count": 190,
   "metadata": {},
   "outputs": [],
   "source": [
    "team_list = []\n",
    "for match in data:\n",
    "    for competitor in match['competitors']:\n",
    "        if competitor['id'] not in team_list:\n",
    "            team_list.append(competitor['id'])\n",
    "            insert = (\n",
    "                    'INSERT INTO TEAMS (TEAM_ID, TEAM_NAME, TEAM_LOCATION) VALUES '\n",
    "                    '(%d, \\'%s\\', \\'%s\\');'\n",
    "                    % (competitor['id'], \n",
    "                       competitor['name'], \n",
    "                       competitor['homeLocation'])\n",
    "                )\n",
    "            file.write(insert+'\\n')"
   ]
  },
  {
   "cell_type": "code",
   "execution_count": null,
   "metadata": {},
   "outputs": [],
   "source": [
    "try:\n",
    "    connection = sql.connect('test.db')\n",
    "    cursor = connection.cursor()\n",
    "    db = io.open('owl.sql', 'r', encoding='ISO-8859-1')\n",
    "    database = db.read()\n",
    "    cursor.executescript(database)\n",
    "except Exception as e:\n",
    "    print(e)\n",
    "    os.remove('test.db')"
   ]
  },
  {
   "cell_type": "code",
   "execution_count": null,
   "metadata": {},
   "outputs": [],
   "source": []
  }
 ],
 "metadata": {
  "kernelspec": {
   "display_name": "Python 3",
   "language": "python",
   "name": "python3"
  },
  "language_info": {
   "codemirror_mode": {
    "name": "ipython",
    "version": 3
   },
   "file_extension": ".py",
   "mimetype": "text/x-python",
   "name": "python",
   "nbconvert_exporter": "python",
   "pygments_lexer": "ipython3",
   "version": "3.7.3"
  }
 },
 "nbformat": 4,
 "nbformat_minor": 2
}

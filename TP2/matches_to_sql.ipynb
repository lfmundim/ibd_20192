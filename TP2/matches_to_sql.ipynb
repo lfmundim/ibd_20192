{
 "cells": [
  {
   "cell_type": "code",
   "execution_count": 1,
   "metadata": {},
   "outputs": [],
   "source": [
    "import io\n",
    "import json\n",
    "import sqlite3 as sql\n",
    "import pandas as pd\n",
    "import os\n",
    "\n",
    "def query(query_string, connection):\n",
    "    return pd.read_sql_query(query_string, connection)"
   ]
  },
  {
   "cell_type": "code",
   "execution_count": 2,
   "metadata": {},
   "outputs": [],
   "source": [
    "file = open('owl.sql', 'w+')"
   ]
  },
  {
   "cell_type": "code",
   "execution_count": 3,
   "metadata": {},
   "outputs": [],
   "source": [
    "json_file = open('matches.json')\n",
    "data = json.load(json_file)['content']\n",
    "json_file.close()"
   ]
  },
  {
   "cell_type": "code",
   "execution_count": 4,
   "metadata": {},
   "outputs": [],
   "source": [
    "match_schema = (\n",
    "    'CREATE TABLE [MATCHES] ( '\n",
    "    'MATCH_ID INT, '\n",
    "    'TEAM_ONE_ID INT, '\n",
    "    'TEAM_TWO_ID INT, '\n",
    "    'TEAM_ONE_SCORE INT, '\n",
    "    'TEAM_TWO_SCORE INT, '\n",
    "    'WINNER_ID INT, '\n",
    "    'TIMESTAMP DATETIME, '\n",
    "    'PRIMARY KEY (MATCH_ID)'\n",
    "    ');' \n",
    ")"
   ]
  },
  {
   "cell_type": "code",
   "execution_count": 5,
   "metadata": {},
   "outputs": [
    {
     "data": {
      "text/plain": [
       "174"
      ]
     },
     "execution_count": 5,
     "metadata": {},
     "output_type": "execute_result"
    }
   ],
   "source": [
    "file.write(match_schema + '\\n\\n')"
   ]
  },
  {
   "cell_type": "code",
   "execution_count": 6,
   "metadata": {},
   "outputs": [],
   "source": [
    "for match in data:\n",
    "    insert = (\n",
    "        'INSERT INTO MATCHES '\n",
    "        '(MATCH_ID, TEAM_ONE_ID, TEAM_TWO_ID, '\n",
    "        'TEAM_ONE_SCORE, TEAM_TWO_SCORE, '\n",
    "        'WINNER_ID, TIMESTAMP)'\n",
    "        'VALUES (%d, %d, %d, %d, %d, %d, %d);'\n",
    "        % (match['id'], match['competitors'][0]['id'],\n",
    "          match['competitors'][1]['id'],\n",
    "          match['scores'][0]['value'],\n",
    "          match['scores'][1]['value'],\n",
    "          match['winner']['id'],\n",
    "          match['actualStartDate'])\n",
    "    )\n",
    "    file.write(insert+'\\n')"
   ]
  },
  {
   "cell_type": "code",
   "execution_count": 7,
   "metadata": {},
   "outputs": [],
   "source": [
    "#connection = sql.connect('test.db')"
   ]
  },
  {
   "cell_type": "code",
   "execution_count": 8,
   "metadata": {},
   "outputs": [],
   "source": [
    "#cursor = connection.cursor()\n",
    "#db = io.open('owl.sql', 'r', encoding='ISO-8859-1')\n",
    "#database = db.read()\n",
    "#cursor.executescript(database)"
   ]
  },
  {
   "cell_type": "code",
   "execution_count": 9,
   "metadata": {},
   "outputs": [
    {
     "data": {
      "text/plain": [
       "85"
      ]
     },
     "execution_count": 9,
     "metadata": {},
     "output_type": "execute_result"
    }
   ],
   "source": [
    "game_schema = (\n",
    "    '\\nCREATE TABLE [GAMES] ('\n",
    "    'GAME_ID INT, '\n",
    "    'MATCH_ID INT, '\n",
    "    'MAP TEXT, '\n",
    "    'PRIMARY KEY (GAME_ID)'\n",
    "    ');\\n\\n'\n",
    ")\n",
    "\n",
    "file.write(game_schema)"
   ]
  },
  {
   "cell_type": "code",
   "execution_count": 10,
   "metadata": {},
   "outputs": [
    {
     "name": "stdout",
     "output_type": "stream",
     "text": [
      "Error\n",
      "Error\n"
     ]
    }
   ],
   "source": [
    "for match in data:\n",
    "    for game in match['games']:\n",
    "        try:\n",
    "            map_name = str(game['attributes']['map']).replace('-', ' ')\n",
    "            insert = (\n",
    "                'INSERT INTO GAMES (GAME_ID, MATCH_ID, MAP) VALUES '\n",
    "                '(%d, %d, \\'%s\\');'\n",
    "                % (game['id'], match['id'], map_name)\n",
    "            )\n",
    "            file.write(insert+'\\n')\n",
    "        except:\n",
    "            print('Error')"
   ]
  },
  {
   "cell_type": "code",
   "execution_count": 11,
   "metadata": {},
   "outputs": [],
   "source": [
    "#try:\n",
    "#    connection = sql.connect('test.db')\n",
    "#    cursor = connection.cursor()\n",
    "#    db = io.open('owl.sql', 'r', encoding='ISO-8859-1')\n",
    "#    database = db.read()\n",
    "#    cursor.executescript(database)\n",
    "#except Exception as e:\n",
    "#    print(e)\n",
    "#    os.remove('test.db')"
   ]
  },
  {
   "cell_type": "code",
   "execution_count": 12,
   "metadata": {},
   "outputs": [
    {
     "data": {
      "text/plain": [
       "97"
      ]
     },
     "execution_count": 12,
     "metadata": {},
     "output_type": "execute_result"
    }
   ],
   "source": [
    "teams_schema = (\n",
    "    '\\nCREATE TABLE [TEAMS] ('\n",
    "    'TEAM_ID INT, '\n",
    "    'TEAM_NAME TEXT, '\n",
    "    'TEAM_LOCATION TEXT, '\n",
    "    'PRIMARY KEY (TEAM_ID)'\n",
    "    ');\\n\\n'\n",
    ")\n",
    "\n",
    "file.write(teams_schema)"
   ]
  },
  {
   "cell_type": "code",
   "execution_count": 13,
   "metadata": {},
   "outputs": [],
   "source": [
    "team_list = []\n",
    "for match in data:\n",
    "    for competitor in match['competitors']:\n",
    "        if competitor['id'] not in team_list:\n",
    "            team_list.append(competitor['id'])\n",
    "            insert = (\n",
    "                    'INSERT INTO TEAMS (TEAM_ID, TEAM_NAME, TEAM_LOCATION) VALUES '\n",
    "                    '(%d, \\'%s\\', \\'%s\\');'\n",
    "                    % (competitor['id'], \n",
    "                       competitor['name'], \n",
    "                       competitor['homeLocation'])\n",
    "                )\n",
    "            file.write(insert+'\\n')"
   ]
  },
  {
   "cell_type": "code",
   "execution_count": 14,
   "metadata": {},
   "outputs": [],
   "source": [
    "#try:\n",
    "#    connection = sql.connect('test.db')\n",
    "#    cursor = connection.cursor()\n",
    "#    db = io.open('owl.sql', 'r', encoding='ISO-8859-1')\n",
    "#    database = db.read()\n",
    "#    cursor.executescript(database)\n",
    "#except Exception as e:\n",
    "#    print(e)\n",
    "#    os.remove('test.db')"
   ]
  },
  {
   "cell_type": "code",
   "execution_count": 15,
   "metadata": {},
   "outputs": [
    {
     "data": {
      "text/plain": [
       "132"
      ]
     },
     "execution_count": 15,
     "metadata": {},
     "output_type": "execute_result"
    }
   ],
   "source": [
    "teams_schema = (\n",
    "    '\\nCREATE TABLE [PLAYERS] ('\n",
    "    'COMPETITOR_ID INT,'\n",
    "    'TEAM_ID INT, '\n",
    "    'HANDLE TEXT, '\n",
    "    'ROLE TEXT, '\n",
    "    'NUMBER INT,'\n",
    "    'NAME TEXT,'\n",
    "    'PRIMARY KEY (COMPETITOR_ID)'\n",
    "    ');\\n\\n'\n",
    ")\n",
    "\n",
    "file.write(teams_schema)"
   ]
  },
  {
   "cell_type": "code",
   "execution_count": 17,
   "metadata": {},
   "outputs": [],
   "source": [
    "team_list = []\n",
    "player_list = []\n",
    "for match in data:\n",
    "    for competitor in match['competitors']:\n",
    "        if competitor['id'] not in team_list:\n",
    "            team_list.append(competitor['id'])\n",
    "            for player in competitor['players']:\n",
    "                if player['player']['id'] not in player_list:\n",
    "                    player_list.append(player['player']['id'])\n",
    "                    insert = (\n",
    "                            'INSERT INTO PLAYERS (COMPETITOR_ID, TEAM_ID, HANDLE, ROLE, NUMBER, NAME) VALUES '\n",
    "                            '(%d, %d, \\'%s\\', \\'%s\\', %d, \\'%s\\');'\n",
    "                            % (player['player']['id'], \n",
    "                               player['team']['id'], \n",
    "                               player['player']['name'],\n",
    "                               player['player']['attributes']['role'],\n",
    "                               player['player']['attributes']['player_number'],\n",
    "                               ' '.join([player['player']['givenName'], player['player']['familyName']]))\n",
    "                        )\n",
    "                    file.write(insert+'\\n')"
   ]
  },
  {
   "cell_type": "code",
   "execution_count": 18,
   "metadata": {},
   "outputs": [],
   "source": [
    "file.close()"
   ]
  },
  {
   "cell_type": "code",
   "execution_count": 19,
   "metadata": {},
   "outputs": [],
   "source": [
    "try:\n",
    "    connection = sql.connect('test.db')\n",
    "    cursor = connection.cursor()\n",
    "    db = io.open('owl.sql', 'r', encoding='ISO-8859-1')\n",
    "    database = db.read()\n",
    "    cursor.executescript(database)\n",
    "except Exception as e:\n",
    "    print(e)\n",
    "    os.remove('test.db')"
   ]
  },
  {
   "cell_type": "code",
   "execution_count": 21,
   "metadata": {},
   "outputs": [
    {
     "data": {
      "text/html": [
       "<div>\n",
       "<style scoped>\n",
       "    .dataframe tbody tr th:only-of-type {\n",
       "        vertical-align: middle;\n",
       "    }\n",
       "\n",
       "    .dataframe tbody tr th {\n",
       "        vertical-align: top;\n",
       "    }\n",
       "\n",
       "    .dataframe thead th {\n",
       "        text-align: right;\n",
       "    }\n",
       "</style>\n",
       "<table border=\"1\" class=\"dataframe\">\n",
       "  <thead>\n",
       "    <tr style=\"text-align: right;\">\n",
       "      <th></th>\n",
       "      <th>COMPETITOR_ID</th>\n",
       "      <th>TEAM_ID</th>\n",
       "      <th>HANDLE</th>\n",
       "      <th>ROLE</th>\n",
       "      <th>NUMBER</th>\n",
       "      <th>NAME</th>\n",
       "      <th>TEAM_NAME</th>\n",
       "      <th>TEAM_LOCATION</th>\n",
       "    </tr>\n",
       "  </thead>\n",
       "  <tbody>\n",
       "    <tr>\n",
       "      <td>0</td>\n",
       "      <td>8218</td>\n",
       "      <td>4409</td>\n",
       "      <td>Marve1</td>\n",
       "      <td>tank</td>\n",
       "      <td>11</td>\n",
       "      <td>Min Seo Hwang</td>\n",
       "      <td>Seoul Dynasty</td>\n",
       "      <td>Seoul</td>\n",
       "    </tr>\n",
       "    <tr>\n",
       "      <td>1</td>\n",
       "      <td>8831</td>\n",
       "      <td>4409</td>\n",
       "      <td>FITS</td>\n",
       "      <td>offense</td>\n",
       "      <td>16</td>\n",
       "      <td>Dong Eon Kim</td>\n",
       "      <td>Seoul Dynasty</td>\n",
       "      <td>Seoul</td>\n",
       "    </tr>\n",
       "    <tr>\n",
       "      <td>2</td>\n",
       "      <td>9279</td>\n",
       "      <td>4409</td>\n",
       "      <td>ILLICIT</td>\n",
       "      <td>offense</td>\n",
       "      <td>21</td>\n",
       "      <td>Je Min Park</td>\n",
       "      <td>Seoul Dynasty</td>\n",
       "      <td>Seoul</td>\n",
       "    </tr>\n",
       "    <tr>\n",
       "      <td>3</td>\n",
       "      <td>4098</td>\n",
       "      <td>4409</td>\n",
       "      <td>ZUNBA</td>\n",
       "      <td>tank</td>\n",
       "      <td>5</td>\n",
       "      <td>Joonhyeok Kim</td>\n",
       "      <td>Seoul Dynasty</td>\n",
       "      <td>Seoul</td>\n",
       "    </tr>\n",
       "    <tr>\n",
       "      <td>4</td>\n",
       "      <td>4104</td>\n",
       "      <td>4409</td>\n",
       "      <td>tobi</td>\n",
       "      <td>support</td>\n",
       "      <td>7</td>\n",
       "      <td>Jinmo Yang</td>\n",
       "      <td>Seoul Dynasty</td>\n",
       "      <td>Seoul</td>\n",
       "    </tr>\n",
       "    <tr>\n",
       "      <td>...</td>\n",
       "      <td>...</td>\n",
       "      <td>...</td>\n",
       "      <td>...</td>\n",
       "      <td>...</td>\n",
       "      <td>...</td>\n",
       "      <td>...</td>\n",
       "      <td>...</td>\n",
       "      <td>...</td>\n",
       "    </tr>\n",
       "    <tr>\n",
       "      <td>169</td>\n",
       "      <td>4652</td>\n",
       "      <td>7697</td>\n",
       "      <td>ArK</td>\n",
       "      <td>support</td>\n",
       "      <td>2</td>\n",
       "      <td>Yeonjun Hong</td>\n",
       "      <td>Washington Justice</td>\n",
       "      <td>Washington, DC</td>\n",
       "    </tr>\n",
       "    <tr>\n",
       "      <td>170</td>\n",
       "      <td>8784</td>\n",
       "      <td>7697</td>\n",
       "      <td>Corey</td>\n",
       "      <td>offense</td>\n",
       "      <td>11</td>\n",
       "      <td>Corey Nigra</td>\n",
       "      <td>Washington Justice</td>\n",
       "      <td>Washington, DC</td>\n",
       "    </tr>\n",
       "    <tr>\n",
       "      <td>171</td>\n",
       "      <td>8783</td>\n",
       "      <td>7697</td>\n",
       "      <td>Stratus</td>\n",
       "      <td>offense</td>\n",
       "      <td>27</td>\n",
       "      <td>Ethan Yankel</td>\n",
       "      <td>Washington Justice</td>\n",
       "      <td>Washington, DC</td>\n",
       "    </tr>\n",
       "    <tr>\n",
       "      <td>172</td>\n",
       "      <td>11102</td>\n",
       "      <td>7697</td>\n",
       "      <td>LullSiSH</td>\n",
       "      <td>tank</td>\n",
       "      <td>15</td>\n",
       "      <td>Lukas Wiklund</td>\n",
       "      <td>Washington Justice</td>\n",
       "      <td>Washington, DC</td>\n",
       "    </tr>\n",
       "    <tr>\n",
       "      <td>173</td>\n",
       "      <td>11101</td>\n",
       "      <td>7697</td>\n",
       "      <td>ELLIVOTE</td>\n",
       "      <td>tank</td>\n",
       "      <td>28</td>\n",
       "      <td>Elliot Vaneryd</td>\n",
       "      <td>Washington Justice</td>\n",
       "      <td>Washington, DC</td>\n",
       "    </tr>\n",
       "  </tbody>\n",
       "</table>\n",
       "<p>174 rows × 8 columns</p>\n",
       "</div>"
      ],
      "text/plain": [
       "     COMPETITOR_ID  TEAM_ID    HANDLE     ROLE  NUMBER            NAME  \\\n",
       "0             8218     4409    Marve1     tank      11   Min Seo Hwang   \n",
       "1             8831     4409      FITS  offense      16    Dong Eon Kim   \n",
       "2             9279     4409   ILLICIT  offense      21     Je Min Park   \n",
       "3             4098     4409     ZUNBA     tank       5   Joonhyeok Kim   \n",
       "4             4104     4409      tobi  support       7      Jinmo Yang   \n",
       "..             ...      ...       ...      ...     ...             ...   \n",
       "169           4652     7697       ArK  support       2    Yeonjun Hong   \n",
       "170           8784     7697     Corey  offense      11     Corey Nigra   \n",
       "171           8783     7697   Stratus  offense      27    Ethan Yankel   \n",
       "172          11102     7697  LullSiSH     tank      15   Lukas Wiklund   \n",
       "173          11101     7697  ELLIVOTE     tank      28  Elliot Vaneryd   \n",
       "\n",
       "              TEAM_NAME   TEAM_LOCATION  \n",
       "0         Seoul Dynasty           Seoul  \n",
       "1         Seoul Dynasty           Seoul  \n",
       "2         Seoul Dynasty           Seoul  \n",
       "3         Seoul Dynasty           Seoul  \n",
       "4         Seoul Dynasty           Seoul  \n",
       "..                  ...             ...  \n",
       "169  Washington Justice  Washington, DC  \n",
       "170  Washington Justice  Washington, DC  \n",
       "171  Washington Justice  Washington, DC  \n",
       "172  Washington Justice  Washington, DC  \n",
       "173  Washington Justice  Washington, DC  \n",
       "\n",
       "[174 rows x 8 columns]"
      ]
     },
     "execution_count": 21,
     "metadata": {},
     "output_type": "execute_result"
    }
   ],
   "source": [
    "query('select h from players natural join teams', connection)"
   ]
  },
  {
   "cell_type": "code",
   "execution_count": null,
   "metadata": {},
   "outputs": [],
   "source": []
  }
 ],
 "metadata": {
  "kernelspec": {
   "display_name": "Python 3",
   "language": "python",
   "name": "python3"
  },
  "language_info": {
   "codemirror_mode": {
    "name": "ipython",
    "version": 3
   },
   "file_extension": ".py",
   "mimetype": "text/x-python",
   "name": "python",
   "nbconvert_exporter": "python",
   "pygments_lexer": "ipython3",
   "version": "3.7.3"
  }
 },
 "nbformat": 4,
 "nbformat_minor": 2
}
